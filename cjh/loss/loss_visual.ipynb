{
 "cells": [
  {
   "cell_type": "code",
   "execution_count": 1,
   "metadata": {},
   "outputs": [
    {
     "ename": "TypeError",
     "evalue": "can only concatenate str (not \"int\") to str",
     "output_type": "error",
     "traceback": [
      "\u001b[0;31m---------------------------------------------------------------------------\u001b[0m",
      "\u001b[0;31mTypeError\u001b[0m                                 Traceback (most recent call last)",
      "Cell \u001b[0;32mIn[1], line 7\u001b[0m\n\u001b[1;32m      5\u001b[0m sel_model \u001b[39m=\u001b[39m model_list[\u001b[39m2\u001b[39m]\n\u001b[1;32m      6\u001b[0m pth_num \u001b[39m=\u001b[39m \u001b[39m1\u001b[39m\n\u001b[0;32m----> 7\u001b[0m load_loss_pth \u001b[39m=\u001b[39m\u001b[39m'\u001b[39;49m\u001b[39m./\u001b[39;49m\u001b[39m'\u001b[39;49m\u001b[39m+\u001b[39;49msel_model\u001b[39m+\u001b[39;49m\u001b[39m'\u001b[39;49m\u001b[39m_model\u001b[39;49m\u001b[39m'\u001b[39;49m\u001b[39m+\u001b[39;49mpth_num\u001b[39m+\u001b[39m\u001b[39m'\u001b[39m\u001b[39m.pth\u001b[39m\u001b[39m'\u001b[39m\n\u001b[1;32m      8\u001b[0m \u001b[39m# load_loss_pth ='./ResNet18_model2.pth'\u001b[39;00m\n\u001b[1;32m     10\u001b[0m \u001b[39mdef\u001b[39;00m \u001b[39mplt_show\u001b[39m(xrange\u001b[39m=\u001b[39m\u001b[39m0\u001b[39m):\n",
      "\u001b[0;31mTypeError\u001b[0m: can only concatenate str (not \"int\") to str"
     ]
    }
   ],
   "source": [
    "import torch\n",
    "import matplotlib.pyplot as plt\n",
    "\n",
    "model_list = ['DnCNN', 'ResNet18', 'RFDN']\n",
    "sel_model = model_list[2]\n",
    "pth_num = 1\n",
    "load_loss_pth ='./'+sel_model+'_model'+ srt(pth_num)+'.pth'\n",
    "# load_loss_pth ='./ResNet18_model2.pth'\n",
    "\n",
    "def plt_show(xrange=0):\n",
    "    plt.plot(epoch, train_loss, label=\"Train Loss\", color='b')\n",
    "    plt.plot(epoch, val_loss, label=\"Validation Loss\", color='r')\n",
    "    plt.title(load_loss_pth)\n",
    "    plt.legend(loc=\"best\")   \n",
    "    plt.ylabel(\"Loss\")\n",
    "    # plt.ylim(0,0.1)\n",
    "    plt.xlabel(f'epoch [{epoch[0]} : {epoch[-1]}]') \n",
    "    if xrange:\n",
    "        plt.xlim(xrange)\n",
    "        plt.ylim(min([min(train_loss),min(val_loss)])*0.99,max([max(train_loss[xrange:]),max(val_loss[xrange:])])*1.01)\n",
    "        plt.xlabel(f'epoch [{epoch[xrange]} : {epoch[-1]}]') \n",
    "    plt.show()\n",
    "\n",
    "checkpoint = torch.load(load_loss_pth) # 경로에서 .pt 파일 불러오기\n",
    "model = checkpoint['model']\n",
    "epoch = checkpoint['epoch']\n",
    "train_loss =checkpoint['train_loss']\n",
    "val_loss = checkpoint['val_loss']\n",
    "epochs =[]\n",
    "for i in epoch:\n",
    "    epochs.append(i + 1)\n",
    "epoch = epochs\n",
    "# plt.subplot(1,2,1)\n",
    "plt_show()\n",
    "# plt.subplot(1,2,2)\n",
    "plt_show(int(epoch[-1]/3))\n",
    "\n"
   ]
  },
  {
   "cell_type": "code",
   "execution_count": null,
   "metadata": {},
   "outputs": [],
   "source": []
  },
  {
   "cell_type": "code",
   "execution_count": null,
   "metadata": {},
   "outputs": [],
   "source": [
    "if False:\n",
    "    prange=range(50,1001,50)\n",
    "    plt.plot(prange,train_mean,label=\"Train score\",color=\"r\")\n",
    "    plt.plot(prange,test_mean,label=\"Test score\",color=\"b\")\n",
    "    plt.fill_between(prange,train_mean-train_std,train_mean+train_std,alpha=0.2,color=\"r\")\n",
    "    plt.fill_between(prange,test_mean-test_std,test_mean+test_std,alpha=0.2,color=\"b\")\n",
    "    plt.legend(loc=\"best\")\n",
    "    plt.title(\"validation Curve with MLP\")\n",
    "    plt.xlabel(\"Number of hidden nodes\"); plt.ylabel(\"Accuracy\")\n",
    "    plt.ylim(0.9,1.01)\n",
    "    plt.grid(axis='both')\n",
    "    plt.show()"
   ]
  },
  {
   "cell_type": "code",
   "execution_count": null,
   "metadata": {},
   "outputs": [],
   "source": [
    "if False:\n",
    "    lfw = datasets.fetch_lfw_people(min_faces_per_person=70,resize=0.4)\n",
    "\n",
    "    plt.figure(figsize=(20,5))\n",
    "\n",
    "    for i in range(8):\n",
    "        plt.subplot(1,8,i+1)\n",
    "        plt.imshow(lfw.images[i],cmap=plt.cm.bone)\n",
    "        plt.title(lfw.target_names[lfw.target[i]])\n",
    "\n",
    "    plt.show()"
   ]
  }
 ],
 "metadata": {
  "kernelspec": {
   "display_name": "pytorch",
   "language": "python",
   "name": "python3"
  },
  "language_info": {
   "codemirror_mode": {
    "name": "ipython",
    "version": 3
   },
   "file_extension": ".py",
   "mimetype": "text/x-python",
   "name": "python",
   "nbconvert_exporter": "python",
   "pygments_lexer": "ipython3",
   "version": "3.9.16"
  },
  "orig_nbformat": 4
 },
 "nbformat": 4,
 "nbformat_minor": 2
}
