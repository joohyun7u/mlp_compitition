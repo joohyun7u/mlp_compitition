{
 "cells": [
  {
   "cell_type": "code",
   "execution_count": null,
   "metadata": {},
   "outputs": [],
   "source": [
    "import torch\n",
    "\n",
    "model,epoch,train_loss,val_loss = '0',0,0.0,0.0\n",
    "\n",
    "checkpoint = torch.load('./dncnn_model1.pth') # 경로에서 .pt 파일 불러오기\n",
    "model.load_state_dict(checkpoint['model'])\n",
    "epoch.load_state_dict(checkpoint['epoch'])\n",
    "train_loss.load_state_dict(checkpoint['train_loss'])\n",
    "val_loss.load_state_dict(checkpoint['val_loss'])\n",
    "\n"
   ]
  },
  {
   "cell_type": "code",
   "execution_count": null,
   "metadata": {},
   "outputs": [],
   "source": []
  }
 ],
 "metadata": {
  "language_info": {
   "name": "python"
  },
  "orig_nbformat": 4
 },
 "nbformat": 4,
 "nbformat_minor": 2
}
