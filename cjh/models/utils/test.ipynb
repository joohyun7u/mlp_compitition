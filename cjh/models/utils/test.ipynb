{
 "cells": [
  {
   "cell_type": "code",
   "execution_count": null,
   "metadata": {},
   "outputs": [],
   "source": [
    "import random\n",
    "import numpy as np\n",
    "import cv2\n",
    "import os\n",
    "import torch\n",
    "import torch.utils.data as data\n",
    "import torch.nn as nn\n",
    "import torch.optim as optim\n",
    "from torch.utils.data import DataLoader\n",
    "from torchvision.transforms import ToTensor, Normalize, Compose\n",
    "from os.path import join\n",
    "from os import listdir\n",
    "from torchsummary import summary\n",
    "import time\n",
    "import argparse\n",
    "\n",
    "# Check number of parameters your model\n",
    "def param_check(model, grad=False):\n",
    "    if grad:\n",
    "        pytorch_total_params = sum(p.numel() for p in model.parameters() if p.requires_grad)\n",
    "        print('grad인 parameter 개수기준임')\n",
    "    else:\n",
    "        pytorch_total_params = sum(p.numel() for p in model.parameters())\n",
    "        print('모든 parameter 개수기준임')\n",
    "    print(f\"Number of parameters: {pytorch_total_params}\")\n",
    "    if int(pytorch_total_params) > 10000000:\n",
    "        print(f'!!!!!!10M 1천만보다 {pytorch_total_params-10000000}개 초과했음!!!!!!')\n",
    "    else:\n",
    "        print(f'10M 1천만보다 {10000000-pytorch_total_params}개 여유 있음...')\n",
    "    return pytorch_total_params\n"
   ]
  }
 ],
 "metadata": {
  "language_info": {
   "name": "python"
  },
  "orig_nbformat": 4
 },
 "nbformat": 4,
 "nbformat_minor": 2
}
